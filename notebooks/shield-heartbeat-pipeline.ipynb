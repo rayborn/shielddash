{
 "cells": [
  {
   "cell_type": "markdown",
   "metadata": {},
   "source": [
    "## Set-up: imports, constants, helper functions"
   ]
  },
  {
   "cell_type": "code",
   "execution_count": 11,
   "metadata": {
    "collapsed": false,
    "scrolled": true
   },
   "outputs": [],
   "source": [
    "import boto3\n",
    "import csv\n",
    "import json\n",
    "import matplotlib.pyplot as plt\n",
    "import numpy             as np\n",
    "import pandas            as pd\n",
    "import plotly.plotly     as py\n",
    "import urllib\n",
    "\n",
    "\n",
    "from collections       import defaultdict\n",
    "from datetime          import datetime as dt, timedelta\n",
    "\n",
    "from boto3.s3.transfer import S3Transfer\n",
    "from moztelemetry      import get_pings, get_pings_properties, get_one_ping_per_client, get_clients_history, get_records\n"
   ]
  },
  {
   "cell_type": "code",
   "execution_count": 12,
   "metadata": {
    "collapsed": true
   },
   "outputs": [],
   "source": [
    "# Parameters\n",
    "# TODO Argparse\n",
    "_LOOKBACK = 0\n",
    "_START    = None\n",
    "_END      = None\n",
    "_FRAC     = 1.0\n",
    "\n",
    "# Static\n",
    "_BASE_URL = \"http://s3-us-west-2.amazonaws.com\"\n",
    "_BUCKET   = \"telemetry-public-analysis-2\"\n",
    "_PATH     = \"normandy/data/heartbeat/daily/\"\n",
    "_TRANSFER = None"
   ]
  },
  {
   "cell_type": "code",
   "execution_count": 13,
   "metadata": {
    "collapsed": true
   },
   "outputs": [],
   "source": [
    "# Nested DefaultDict Constructor\n",
    "def rec_dd():\n",
    "    return defaultdict(rec_dd)\n",
    "\n",
    "# Copies Dict to Nested DefaultDict\n",
    "def copy_to_rec_dd(target, source):\n",
    "    for k,v in source.iteritems():\n",
    "        if isinstance(v, dict):\n",
    "            copy_to_rec_dd(target[k], v)\n",
    "        else:\n",
    "            target[k] = v\n",
    "\n",
    "# Safe chained get() function, e.g. foo.get('bar').get('baz') is safe from Nones\n",
    "def try_get(data, keys, noneVal = None):\n",
    "    if not keys:\n",
    "        return data or noneVal\n",
    "    elif keys[0] in data.keys():\n",
    "        return try_get(data[keys[0]], keys[1:])\n",
    "    else:\n",
    "        return noneVal\n",
    "\n",
    "# Flattens a dict to a 2D list\n",
    "def dictToList(data):\n",
    "    if isinstance(data, dict) or isinstance(data, defaultdict):\n",
    "        output = []\n",
    "        for k,v in data.iteritems():\n",
    "            rows = dictToList(v)\n",
    "            for row in rows:\n",
    "                row.insert(0,k)\n",
    "            output.extend(rows)\n",
    "        return output\n",
    "    return [[data]]\n",
    "\n",
    "# Generates all the strings for our S3 file transfers\n",
    "def generate_s3_fileinfo(filename):\n",
    "    s3key = _PATH + filename\n",
    "    url = '/'.join([_BASE_URL, _BUCKET, s3key])\n",
    "    return filename, s3key, url\n",
    "\n",
    "# Initiates some globals TODO: this is not a great practice, should really use a design pattern to manage the global file transfer\n",
    "def instantiateFileTransfer():\n",
    "    global _TRANSFER\n",
    "    client = boto3.client(\"s3\", \"us-west-2\")\n",
    "    _TRANSFER = S3Transfer(client)\n",
    "\n",
    "# Outputs a file locally then transfers it to S3. Overwrites on collision\n",
    "def outputFile(filebase, data):\n",
    "    outputJSON(filebase, data)\n",
    "    outputCSV(filebase, data)\n",
    "    \n",
    "# Outputs a file locally then transfers it to S3. Overwrites on collision\n",
    "def outputJSON(filebase, data):\n",
    "    filename,s3key,_ = generate_s3_fileinfo(filebase + \".json\")\n",
    "    \n",
    "    with open(filename, \"w\") as f:\n",
    "        f.write(json.dumps(data))\n",
    "    _TRANSFER.upload_file(filename, _BUCKET, s3key, extra_args={\"ContentType\":\"application/json\"})\n",
    "\n",
    "# Outputs a file locally then transfers it to S3. Overwrites on collision\n",
    "def outputCSV(filebase, data):\n",
    "    data = dictToList(data)\n",
    "    \n",
    "    filename,s3key,_ = generate_s3_fileinfo(filebase + \".csv\")\n",
    "    \n",
    "    with open(filename, \"w\") as f:\n",
    "        wr = csv.writer(f, quoting=csv.QUOTE_ALL)\n",
    "        for row in data:\n",
    "            wr.writerow(row)\n",
    "    _TRANSFER.upload_file(filename, _BUCKET, s3key, extra_args={\"ContentType\":\"application/json\"})"
   ]
  },
  {
   "cell_type": "markdown",
   "metadata": {},
   "source": [
    "## Spark: get pings, filter them, and count the permutations"
   ]
  },
  {
   "cell_type": "code",
   "execution_count": 14,
   "metadata": {
    "collapsed": false
   },
   "outputs": [],
   "source": [
    "# Get pings\n",
    "start_date = _START or dt.strftime(dt.utcnow() - timedelta(1 + _LOOKBACK), \"%Y%m%d\")\n",
    "end_date   = _END   or dt.strftime(dt.utcnow() - timedelta(1),             \"%Y%m%d\")\n",
    "\n",
    "pings = get_pings(\n",
    "    sc, \n",
    "    doc_type        = \"heartbeat\", \n",
    "    app             = \"Firefox\", \n",
    "    channel         = \"release\", \n",
    "    submission_date = (start_date, end_date), \n",
    "    fraction        = _FRAC\n",
    ")"
   ]
  },
  {
   "cell_type": "code",
   "execution_count": 15,
   "metadata": {
    "collapsed": false
   },
   "outputs": [
    {
     "data": {
      "text/plain": [
       "defaultdict(int,\n",
       "            {(None, u'20161120', 'closed'): 1,\n",
       "             (None, u'20161120', 'offered'): 22,\n",
       "             (u'cfr-guide-1', u'20161120', 'offered'): 12,\n",
       "             (u'context-graph-v1', u'20161120', 'closed'): 6699,\n",
       "             (u'context-graph-v1', u'20161120', 'engaged'): 745,\n",
       "             (u'context-graph-v1', u'20161120', 'expired'): 2705,\n",
       "             (u'context-graph-v1', u'20161120', 'offered'): 14508,\n",
       "             (u'heartbeat-by-user-first-impression',\n",
       "              u'20161120',\n",
       "              'closed'): 220,\n",
       "             (u'heartbeat-by-user-first-impression',\n",
       "              u'20161120',\n",
       "              'expired'): 146,\n",
       "             (u'heartbeat-by-user-first-impression',\n",
       "              u'20161120',\n",
       "              'offered'): 808,\n",
       "             (u'heartbeat-by-user-first-impression', u'20161120', 'voted1'): 5,\n",
       "             (u'heartbeat-by-user-first-impression', u'20161120', 'voted2'): 4,\n",
       "             (u'heartbeat-by-user-first-impression', u'20161120', 'voted3'): 1,\n",
       "             (u'heartbeat-by-user-first-impression',\n",
       "              u'20161120',\n",
       "              'voted4'): 10,\n",
       "             (u'heartbeat-by-user-first-impression',\n",
       "              u'20161120',\n",
       "              'voted5'): 41,\n",
       "             (u'heartbeat-by-user-first-impression-new-release',\n",
       "              u'20161120',\n",
       "              'offered'): 2,\n",
       "             (u'heartbeat-survey-recruitment ', u'20161120', 'closed'): 6,\n",
       "             (u'heartbeat-survey-recruitment ', u'20161120', 'expired'): 4,\n",
       "             (u'heartbeat-survey-recruitment ', u'20161120', 'offered'): 226,\n",
       "             (u'mobile-en-feedback-fun1', u'20161120', 'closed'): 378,\n",
       "             (u'mobile-en-feedback-fun1', u'20161120', 'engaged'): 25,\n",
       "             (u'mobile-en-feedback-fun1', u'20161120', 'expired'): 124,\n",
       "             (u'mobile-en-feedback-fun1', u'20161120', 'offered'): 494,\n",
       "             (u'mobile-en-feedback-fun2', u'20161120', 'closed'): 376,\n",
       "             (u'mobile-en-feedback-fun2', u'20161120', 'engaged'): 41,\n",
       "             (u'mobile-en-feedback-fun2', u'20161120', 'expired'): 141,\n",
       "             (u'mobile-en-feedback-fun2', u'20161120', 'offered'): 473,\n",
       "             (u'mobile-en-feedback-fxa1', u'20161120', 'closed'): 347,\n",
       "             (u'mobile-en-feedback-fxa1', u'20161120', 'engaged'): 50,\n",
       "             (u'mobile-en-feedback-fxa1', u'20161120', 'expired'): 151,\n",
       "             (u'mobile-en-feedback-fxa1', u'20161120', 'offered'): 531,\n",
       "             (u'mobile-en-feedback-fxa2', u'20161120', 'closed'): 356,\n",
       "             (u'mobile-en-feedback-fxa2', u'20161120', 'engaged'): 26,\n",
       "             (u'mobile-en-feedback-fxa2', u'20161120', 'expired'): 126,\n",
       "             (u'mobile-en-feedback-fxa2', u'20161120', 'offered'): 462,\n",
       "             (u'mobile-en-feedback-fxa3', u'20161120', 'closed'): 325,\n",
       "             (u'mobile-en-feedback-fxa3', u'20161120', 'engaged'): 68,\n",
       "             (u'mobile-en-feedback-fxa3', u'20161120', 'expired'): 136,\n",
       "             (u'mobile-en-feedback-fxa3', u'20161120', 'offered'): 500,\n",
       "             (u'mobile-en-feedback-short1', u'20161120', 'closed'): 228,\n",
       "             (u'mobile-en-feedback-short1', u'20161120', 'engaged'): 18,\n",
       "             (u'mobile-en-feedback-short1', u'20161120', 'expired'): 90,\n",
       "             (u'mobile-en-feedback-short1', u'20161120', 'offered'): 449,\n",
       "             (u'mobile-en-feedback-short2', u'20161120', 'closed'): 238,\n",
       "             (u'mobile-en-feedback-short2', u'20161120', 'engaged'): 16,\n",
       "             (u'mobile-en-feedback-short2', u'20161120', 'expired'): 101,\n",
       "             (u'mobile-en-feedback-short2', u'20161120', 'offered'): 458,\n",
       "             (u'mobile-en-nofeedback-fun1', u'20161120', 'closed'): 358,\n",
       "             (u'mobile-en-nofeedback-fun1', u'20161120', 'engaged'): 33,\n",
       "             (u'mobile-en-nofeedback-fun1', u'20161120', 'expired'): 159,\n",
       "             (u'mobile-en-nofeedback-fun1', u'20161120', 'offered'): 506,\n",
       "             (u'mobile-en-nofeedback-fun2', u'20161120', 'closed'): 297,\n",
       "             (u'mobile-en-nofeedback-fun2', u'20161120', 'engaged'): 48,\n",
       "             (u'mobile-en-nofeedback-fun2', u'20161120', 'expired'): 173,\n",
       "             (u'mobile-en-nofeedback-fun2', u'20161120', 'offered'): 526,\n",
       "             (u'mobile-en-nofeedback-fxa1', u'20161120', 'closed'): 311,\n",
       "             (u'mobile-en-nofeedback-fxa1', u'20161120', 'engaged'): 44,\n",
       "             (u'mobile-en-nofeedback-fxa1', u'20161120', 'expired'): 160,\n",
       "             (u'mobile-en-nofeedback-fxa1', u'20161120', 'offered'): 522,\n",
       "             (u'mobile-en-nofeedback-fxa2', u'20161120', 'closed'): 352,\n",
       "             (u'mobile-en-nofeedback-fxa2', u'20161120', 'engaged'): 45,\n",
       "             (u'mobile-en-nofeedback-fxa2', u'20161120', 'expired'): 135,\n",
       "             (u'mobile-en-nofeedback-fxa2', u'20161120', 'offered'): 510,\n",
       "             (u'mobile-en-nofeedback-fxa3', u'20161120', 'closed'): 360,\n",
       "             (u'mobile-en-nofeedback-fxa3', u'20161120', 'engaged'): 71,\n",
       "             (u'mobile-en-nofeedback-fxa3', u'20161120', 'expired'): 135,\n",
       "             (u'mobile-en-nofeedback-fxa3', u'20161120', 'offered'): 508,\n",
       "             (u'mobile-en-nofeedback-short1', u'20161120', 'closed'): 232,\n",
       "             (u'mobile-en-nofeedback-short1', u'20161120', 'engaged'): 22,\n",
       "             (u'mobile-en-nofeedback-short1', u'20161120', 'expired'): 84,\n",
       "             (u'mobile-en-nofeedback-short1', u'20161120', 'offered'): 438,\n",
       "             (u'mobile-en-nofeedback-short2', u'20161120', 'closed'): 221,\n",
       "             (u'mobile-en-nofeedback-short2', u'20161120', 'engaged'): 20,\n",
       "             (u'mobile-en-nofeedback-short2', u'20161120', 'expired'): 89,\n",
       "             (u'mobile-en-nofeedback-short2', u'20161120', 'offered'): 452,\n",
       "             (u'security-advisor-1', u'20161120', 'closed'): 17682,\n",
       "             (u'security-advisor-1', u'20161120', 'engaged'): 2959,\n",
       "             (u'security-advisor-1', u'20161120', 'expired'): 6891,\n",
       "             (u'security-advisor-1', u'20161120', 'offered'): 35294,\n",
       "             (u'site-enhance-1', u'20161120', 'offered'): 3,\n",
       "             (u'site-enhance-2', u'20161120', 'closed'): 19,\n",
       "             (u'site-enhance-2', u'20161120', 'engaged'): 6,\n",
       "             (u'site-enhance-2', u'20161120', 'expired'): 39,\n",
       "             (u'site-enhance-2', u'20161120', 'offered'): 1014,\n",
       "             (u'treejack-experiment-2', u'20161120', 'offered'): 16})"
      ]
     },
     "execution_count": 15,
     "metadata": {},
     "output_type": "execute_result"
    }
   ],
   "source": [
    "# Calculate recent data\n",
    "\n",
    "# Munges ping into a tuple (surveyId, submissioinDate, heartbeatStatus)\n",
    "def munge_pings(ping):\n",
    "    payload = ping.get(\"payload\")\n",
    "    if not payload:\n",
    "        status = \"unknown\"\n",
    "    elif payload.get(\"engagedTS\"):\n",
    "        status = \"engaged\"\n",
    "    elif payload.get(\"votedTS\"):\n",
    "        status = \"voted%s\" % payload.get(\"score\", \"?\")\n",
    "    elif payload.get(\"expiredTS\"):\n",
    "        status = \"expired\"\n",
    "    elif payload.get(\"closedTS\"):\n",
    "        status = \"closed\"\n",
    "    elif payload.get(\"offeredTS\"):\n",
    "        status = \"offered\"\n",
    "    else:\n",
    "        status = \"unknown\"\n",
    "    #return status\n",
    "    return (\n",
    "        try_get(ping,[\"payload\",\"surveyId\"], \"unknown\"), \n",
    "        try_get(ping,[\"meta\",\"submissionDate\"], \"unknown\"), \n",
    "        status\n",
    "    )\n",
    "\n",
    "\n",
    "#try:\n",
    "recent_data = pings.map(lambda p: munge_pings(p)).countByValue()\n",
    "#except Exception as e:\n",
    "#    print(e)\n",
    "recent_data\n",
    "\n",
    "\n"
   ]
  },
  {
   "cell_type": "markdown",
   "metadata": {},
   "source": [
    "## Data Munging: merge with existing data, get into dict trees "
   ]
  },
  {
   "cell_type": "code",
   "execution_count": 16,
   "metadata": {
    "collapsed": false
   },
   "outputs": [],
   "source": [
    "# Get historical data\n",
    "_,_,all_url = generate_s3_fileinfo(\"all.json\") # generate existing data url\n",
    "all_dict = rec_dd()\n",
    "\n",
    "existing_json = json.loads( urllib.urlopen(all_url).read()) # load existing data\n",
    "copy_to_rec_dd(all_dict, existing_json) # copy into a defaultdict instead of a dict.  This is nested so it needed a copy fn (I may just be ignorant of a more elegant solution)"
   ]
  },
  {
   "cell_type": "code",
   "execution_count": 17,
   "metadata": {
    "collapsed": false
   },
   "outputs": [
    {
     "data": {
      "text/plain": [
       "defaultdict(<function __main__.rec_dd>,\n",
       "            {u'20161120': defaultdict(<function __main__.rec_dd>,\n",
       "                         {None: defaultdict(<function __main__.rec_dd>,\n",
       "                                      {'closed': 1, 'offered': 22}),\n",
       "                          u'cfr-guide-1': defaultdict(<function __main__.rec_dd>,\n",
       "                                      {'offered': 12}),\n",
       "                          u'context-graph-v1': defaultdict(<function __main__.rec_dd>,\n",
       "                                      {'closed': 6699,\n",
       "                                       'engaged': 745,\n",
       "                                       'expired': 2705,\n",
       "                                       'offered': 14508}),\n",
       "                          u'heartbeat-by-user-first-impression': defaultdict(<function __main__.rec_dd>,\n",
       "                                      {'closed': 220,\n",
       "                                       'expired': 146,\n",
       "                                       'offered': 808,\n",
       "                                       'voted1': 5,\n",
       "                                       'voted2': 4,\n",
       "                                       'voted3': 1,\n",
       "                                       'voted4': 10,\n",
       "                                       'voted5': 41}),\n",
       "                          u'heartbeat-by-user-first-impression-new-release': defaultdict(<function __main__.rec_dd>,\n",
       "                                      {'offered': 2}),\n",
       "                          u'heartbeat-survey-recruitment ': defaultdict(<function __main__.rec_dd>,\n",
       "                                      {'closed': 6,\n",
       "                                       'expired': 4,\n",
       "                                       'offered': 226}),\n",
       "                          u'mobile-en-feedback-fun1': defaultdict(<function __main__.rec_dd>,\n",
       "                                      {'closed': 378,\n",
       "                                       'engaged': 25,\n",
       "                                       'expired': 124,\n",
       "                                       'offered': 494}),\n",
       "                          u'mobile-en-feedback-fun2': defaultdict(<function __main__.rec_dd>,\n",
       "                                      {'closed': 376,\n",
       "                                       'engaged': 41,\n",
       "                                       'expired': 141,\n",
       "                                       'offered': 473}),\n",
       "                          u'mobile-en-feedback-fxa1': defaultdict(<function __main__.rec_dd>,\n",
       "                                      {'closed': 347,\n",
       "                                       'engaged': 50,\n",
       "                                       'expired': 151,\n",
       "                                       'offered': 531}),\n",
       "                          u'mobile-en-feedback-fxa2': defaultdict(<function __main__.rec_dd>,\n",
       "                                      {'closed': 356,\n",
       "                                       'engaged': 26,\n",
       "                                       'expired': 126,\n",
       "                                       'offered': 462}),\n",
       "                          u'mobile-en-feedback-fxa3': defaultdict(<function __main__.rec_dd>,\n",
       "                                      {'closed': 325,\n",
       "                                       'engaged': 68,\n",
       "                                       'expired': 136,\n",
       "                                       'offered': 500}),\n",
       "                          u'mobile-en-feedback-short1': defaultdict(<function __main__.rec_dd>,\n",
       "                                      {'closed': 228,\n",
       "                                       'engaged': 18,\n",
       "                                       'expired': 90,\n",
       "                                       'offered': 449}),\n",
       "                          u'mobile-en-feedback-short2': defaultdict(<function __main__.rec_dd>,\n",
       "                                      {'closed': 238,\n",
       "                                       'engaged': 16,\n",
       "                                       'expired': 101,\n",
       "                                       'offered': 458}),\n",
       "                          u'mobile-en-nofeedback-fun1': defaultdict(<function __main__.rec_dd>,\n",
       "                                      {'closed': 358,\n",
       "                                       'engaged': 33,\n",
       "                                       'expired': 159,\n",
       "                                       'offered': 506}),\n",
       "                          u'mobile-en-nofeedback-fun2': defaultdict(<function __main__.rec_dd>,\n",
       "                                      {'closed': 297,\n",
       "                                       'engaged': 48,\n",
       "                                       'expired': 173,\n",
       "                                       'offered': 526}),\n",
       "                          u'mobile-en-nofeedback-fxa1': defaultdict(<function __main__.rec_dd>,\n",
       "                                      {'closed': 311,\n",
       "                                       'engaged': 44,\n",
       "                                       'expired': 160,\n",
       "                                       'offered': 522}),\n",
       "                          u'mobile-en-nofeedback-fxa2': defaultdict(<function __main__.rec_dd>,\n",
       "                                      {'closed': 352,\n",
       "                                       'engaged': 45,\n",
       "                                       'expired': 135,\n",
       "                                       'offered': 510}),\n",
       "                          u'mobile-en-nofeedback-fxa3': defaultdict(<function __main__.rec_dd>,\n",
       "                                      {'closed': 360,\n",
       "                                       'engaged': 71,\n",
       "                                       'expired': 135,\n",
       "                                       'offered': 508}),\n",
       "                          u'mobile-en-nofeedback-short1': defaultdict(<function __main__.rec_dd>,\n",
       "                                      {'closed': 232,\n",
       "                                       'engaged': 22,\n",
       "                                       'expired': 84,\n",
       "                                       'offered': 438}),\n",
       "                          u'mobile-en-nofeedback-short2': defaultdict(<function __main__.rec_dd>,\n",
       "                                      {'closed': 221,\n",
       "                                       'engaged': 20,\n",
       "                                       'expired': 89,\n",
       "                                       'offered': 452}),\n",
       "                          u'security-advisor-1': defaultdict(<function __main__.rec_dd>,\n",
       "                                      {'closed': 17682,\n",
       "                                       'engaged': 2959,\n",
       "                                       'expired': 6891,\n",
       "                                       'offered': 35294}),\n",
       "                          u'site-enhance-1': defaultdict(<function __main__.rec_dd>,\n",
       "                                      {'offered': 3}),\n",
       "                          u'site-enhance-2': defaultdict(<function __main__.rec_dd>,\n",
       "                                      {'closed': 19,\n",
       "                                       'engaged': 6,\n",
       "                                       'expired': 39,\n",
       "                                       'offered': 1014}),\n",
       "                          u'treejack-experiment-2': defaultdict(<function __main__.rec_dd>,\n",
       "                                      {'offered': 16})})})"
      ]
     },
     "execution_count": 17,
     "metadata": {},
     "output_type": "execute_result"
    }
   ],
   "source": [
    "# Merge historical with recents, dump json\n",
    "recent_dict = rec_dd()\n",
    "max_date = \"00000000\"\n",
    "for key_trie, count in recent_data.iteritems():\n",
    "    max_date = key_trie[1] if key_trie[1] > max_date else max_date\n",
    "    recent_dict[key_trie[1]][key_trie[0]][key_trie[2]] = count\n",
    "    all_dict[key_trie[0]][key_trie[1]][key_trie[2]] = count\n",
    "\n",
    "recent_dict"
   ]
  },
  {
   "cell_type": "markdown",
   "metadata": {},
   "source": [
    "## Data Export: Initialization, Local Output, AWS S3 Output"
   ]
  },
  {
   "cell_type": "code",
   "execution_count": 18,
   "metadata": {
    "collapsed": true
   },
   "outputs": [],
   "source": [
    "instantiateFileTransfer()"
   ]
  },
  {
   "cell_type": "code",
   "execution_count": 19,
   "metadata": {
    "collapsed": false
   },
   "outputs": [],
   "source": [
    "# Output All\n",
    "outputFile(\"all\", all_dict)\n"
   ]
  },
  {
   "cell_type": "code",
   "execution_count": 20,
   "metadata": {
    "collapsed": false
   },
   "outputs": [],
   "source": [
    "# Output Recent\n",
    "for date, entry in recent_dict.iteritems():\n",
    "    outputFile(date,entry)\n",
    "\n",
    "outputFile('latest',recent_dict[max_date])\n",
    "\n"
   ]
  },
  {
   "cell_type": "code",
   "execution_count": 21,
   "metadata": {
    "collapsed": false
   },
   "outputs": [
    {
     "data": {
      "text/plain": [
       "'w0000000t'"
      ]
     },
     "execution_count": 21,
     "metadata": {},
     "output_type": "execute_result"
    }
   ],
   "source": [
    "\"w0000000t\""
   ]
  }
 ],
 "metadata": {
  "anaconda-cloud": {},
  "kernelspec": {
   "display_name": "Python [default]",
   "language": "python",
   "name": "python2"
  },
  "language_info": {
   "codemirror_mode": {
    "name": "ipython",
    "version": 2
   },
   "file_extension": ".py",
   "mimetype": "text/x-python",
   "name": "python",
   "nbconvert_exporter": "python",
   "pygments_lexer": "ipython2",
   "version": "2.7.12"
  }
 },
 "nbformat": 4,
 "nbformat_minor": 0
}
